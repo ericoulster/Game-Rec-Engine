{
 "cells": [
  {
   "cell_type": "code",
   "execution_count": 1,
   "metadata": {},
   "outputs": [],
   "source": [
    "import pandas as pd"
   ]
  },
  {
   "cell_type": "code",
   "execution_count": 2,
   "metadata": {},
   "outputs": [],
   "source": [
    "df_genre = pd.read_parquet('genre_list.parquet')\n",
    "df_tag = pd.read_parquet('tag_list.parquet')"
   ]
  },
  {
   "cell_type": "code",
   "execution_count": 3,
   "metadata": {},
   "outputs": [
    {
     "output_type": "execute_result",
     "data": {
      "text/plain": [
       "genre_name\n",
       "action                    1\n",
       "adventure                 1\n",
       "arcade                    1\n",
       "board-games               1\n",
       "card                      1\n",
       "casual                    1\n",
       "educational               1\n",
       "family                    1\n",
       "fighting                  1\n",
       "indie                     1\n",
       "massively-multiplayer     1\n",
       "platformer                1\n",
       "puzzle                    1\n",
       "racing                    1\n",
       "role-playing-games-rpg    1\n",
       "shooter                   1\n",
       "simulation                1\n",
       "sports                    1\n",
       "strategy                  1\n",
       "Name: genre_name, dtype: int64"
      ]
     },
     "metadata": {},
     "execution_count": 3
    }
   ],
   "source": [
    "# We see 19 different genres\n",
    "df_genre.groupby('genre_name')['genre_name'].nunique()"
   ]
  },
  {
   "cell_type": "code",
   "execution_count": 4,
   "metadata": {},
   "outputs": [],
   "source": [
    "genre_list = list(df_genre.groupby('genre_name')['genre_name'].nunique().index.values)"
   ]
  },
  {
   "cell_type": "code",
   "execution_count": 5,
   "metadata": {},
   "outputs": [
    {
     "output_type": "execute_result",
     "data": {
      "text/plain": [
       "['action',\n",
       " 'adventure',\n",
       " 'arcade',\n",
       " 'board-games',\n",
       " 'card',\n",
       " 'casual',\n",
       " 'educational',\n",
       " 'family',\n",
       " 'fighting',\n",
       " 'indie',\n",
       " 'massively-multiplayer',\n",
       " 'platformer',\n",
       " 'puzzle',\n",
       " 'racing',\n",
       " 'role-playing-games-rpg',\n",
       " 'shooter',\n",
       " 'simulation',\n",
       " 'sports',\n",
       " 'strategy']"
      ]
     },
     "metadata": {},
     "execution_count": 5
    }
   ],
   "source": [
    "genre_list"
   ]
  },
  {
   "cell_type": "code",
   "execution_count": null,
   "metadata": {},
   "outputs": [],
   "source": [
    "def create_tag_table(genre):\n",
    "    filtered_genre = df_genre[df_genre['genre_name'] == genre].copy()\n",
    "    filter_join = filtered_genre.merge(df_tag, on='game_name', how='inner', validate=\"one_to_many\")\n",
    "    filter_join = filter_join.drop(columns=['genre_id', 'genre_name'])\n",
    "    filter_join.to_parquet('/tag_genre_tables/' + str(genre) + \"_tag_list.parquet\")"
   ]
  },
  {
   "cell_type": "code",
   "execution_count": null,
   "metadata": {},
   "outputs": [],
   "source": [
    "for genre in genre_list:\n",
    "    create_tag_table(genre)"
   ]
  }
 ],
 "metadata": {
  "kernelspec": {
   "display_name": "Python 3",
   "language": "python",
   "name": "python3"
  },
  "language_info": {
   "codemirror_mode": {
    "name": "ipython",
    "version": 3
   },
   "file_extension": ".py",
   "mimetype": "text/x-python",
   "name": "python",
   "nbconvert_exporter": "python",
   "pygments_lexer": "ipython3",
   "version": "3.6.5-final"
  }
 },
 "nbformat": 4,
 "nbformat_minor": 4
}