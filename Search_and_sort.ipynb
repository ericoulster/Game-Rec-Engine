{
 "metadata": {
  "language_info": {
   "codemirror_mode": {
    "name": "ipython",
    "version": 3
   },
   "file_extension": ".py",
   "mimetype": "text/x-python",
   "name": "python",
   "nbconvert_exporter": "python",
   "pygments_lexer": "ipython3",
   "version": "3.6.5-final"
  },
  "orig_nbformat": 2,
  "kernelspec": {
   "name": "python3",
   "display_name": "Python 3",
   "language": "python"
  }
 },
 "nbformat": 4,
 "nbformat_minor": 2,
 "cells": [
  {
   "cell_type": "code",
   "execution_count": 1,
   "metadata": {},
   "outputs": [],
   "source": [
    "import pandas as pd"
   ]
  },
  {
   "cell_type": "code",
   "execution_count": 16,
   "metadata": {},
   "outputs": [],
   "source": [
    "ref_table = pd.read_parquet('game_reference_table.parquet')"
   ]
  },
  {
   "cell_type": "code",
   "execution_count": 17,
   "metadata": {},
   "outputs": [],
   "source": [
    "ref_table = ref_table.set_index('name')"
   ]
  },
  {
   "cell_type": "code",
   "execution_count": 52,
   "metadata": {},
   "outputs": [],
   "source": [
    "def get_genres(game_name: str) -> str:\n",
    "    try:\n",
    "        game_name_processed = game_name.lower().replace(' ', '-')\n",
    "    except:\n",
    "        raise ValueError('Text processing failed. Are you sure you used a string?')\n",
    "    game_genres = ref_table.loc[game_name_processed]['genre_name']\n",
    "\n",
    "    return list(game_genres)\n",
    "    \n"
   ]
  },
  {
   "cell_type": "code",
   "execution_count": 47,
   "metadata": {},
   "outputs": [],
   "source": [
    "def get_genre_recs(game_name: str, genre: str) -> str:\n",
    "    tag_df = pd.read_parquet('./tag_rec_tables/' + str(genre) + '_rec_table.parquet')\n",
    "    game_recs = tag_df.loc[game_name]\n",
    "    order = game_recs.sort_values(ascending=False)\n",
    "    return order.head(n=20)"
   ]
  },
  {
   "cell_type": "code",
   "execution_count": 82,
   "metadata": {},
   "outputs": [],
   "source": [
    "def search_and_sort(game_name: str) -> str:\n",
    "    game_rec_series = pd.Series()\n",
    "    genres = get_genres(game_name)\n",
    "    for genre in genres:\n",
    "        recs = get_genre_recs(game_name=game_name, genre=genre)\n",
    "        game_rec_series = game_rec_series.append(recs)\n",
    "    game_rec_series\n",
    "    game_rec_combo = game_rec_series.groupby(level=0, axis=0).sum().sort_values(ascending=False)\n",
    "    return game_rec_combo.head(5)"
   ]
  }
 ]
}