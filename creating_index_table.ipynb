{
 "metadata": {
  "language_info": {
   "codemirror_mode": {
    "name": "ipython",
    "version": 3
   },
   "file_extension": ".py",
   "mimetype": "text/x-python",
   "name": "python",
   "nbconvert_exporter": "python",
   "pygments_lexer": "ipython3",
   "version": "3.6.5-final"
  },
  "orig_nbformat": 2,
  "kernelspec": {
   "name": "python3",
   "display_name": "Python 3",
   "language": "python"
  }
 },
 "nbformat": 4,
 "nbformat_minor": 2,
 "cells": [
  {
   "cell_type": "code",
   "execution_count": 1,
   "metadata": {},
   "outputs": [],
   "source": [
    "import pandas as pd"
   ]
  },
  {
   "cell_type": "code",
   "execution_count": 5,
   "metadata": {},
   "outputs": [],
   "source": [
    "df = pd.read_parquet('genre_list.parquet')"
   ]
  },
  {
   "cell_type": "code",
   "execution_count": 6,
   "metadata": {},
   "outputs": [
    {
     "output_type": "execute_result",
     "data": {
      "text/plain": [
       "                                  game_name  genre_id              genre_name\n",
       "0                        grand-theft-auto-v         4                  action\n",
       "1                                  portal-2         2                 shooter\n",
       "2                                  portal-2         7                  puzzle\n",
       "3                   the-witcher-3-wild-hunt         4                  action\n",
       "4                   the-witcher-3-wild-hunt         3               adventure\n",
       "5                   the-witcher-3-wild-hunt         5  role-playing-games-rpg\n",
       "6                               tomb-raider         4                  action\n",
       "7                               tomb-raider         3               adventure\n",
       "8                the-elder-scrolls-v-skyrim         4                  action\n",
       "9                the-elder-scrolls-v-skyrim         5  role-playing-games-rpg\n",
       "10                            left-4-dead-2         4                  action\n",
       "11                            left-4-dead-2         2                 shooter\n",
       "12                            borderlands-2         4                  action\n",
       "13                            borderlands-2         2                 shooter\n",
       "14                            borderlands-2         5  role-playing-games-rpg\n",
       "15                        bioshock-infinite         4                  action\n",
       "16                        bioshock-infinite         2                 shooter\n",
       "17                                   portal         4                  action\n",
       "18                                   portal         3               adventure\n",
       "19                                   portal         7                  puzzle\n",
       "20              life-is-strange-episode-1-2         3               adventure\n",
       "21          counter-strike-global-offensive         4                  action\n",
       "22          counter-strike-global-offensive         2                 shooter\n",
       "23                                 bioshock         4                  action\n",
       "24                                 bioshock         2                 shooter\n",
       "25                                    limbo         4                  action\n",
       "26                                    limbo         3               adventure\n",
       "27                                    limbo        51                   indie\n",
       "28                                    limbo         7                  puzzle\n",
       "29                                    limbo        83              platformer\n",
       "...                                     ...       ...                     ...\n",
       "572616                       sim-theme-park        14              simulation\n",
       "572624           toy-story-3-the-video-game         4                  action\n",
       "572625           toy-story-3-the-video-game        11                  arcade\n",
       "572832           star-wars-galaxy-of-heroes         5  role-playing-games-rpg\n",
       "572833           star-wars-galaxy-of-heroes        10                strategy\n",
       "572836                            oceanhorn         3               adventure\n",
       "572837                            oceanhorn         5  role-playing-games-rpg\n",
       "572863         marvels-spider-man-turf-wars         4                  action\n",
       "572864         marvels-spider-man-turf-wars         3               adventure\n",
       "572872                        witch-trainer         3               adventure\n",
       "572873                        witch-trainer        51                   indie\n",
       "573048                          piscross-s3         7                  puzzle\n",
       "573268                 cube-escape-birthday         3               adventure\n",
       "573269                 cube-escape-birthday         7                  puzzle\n",
       "573512                           picross-s2         7                  puzzle\n",
       "573696  tiny-toon-adventures-acme-all-stars        15                  sports\n",
       "573700                    perfect-dark-2000         4                  action\n",
       "573701                      mischief-makers        83              platformer\n",
       "573703                 elevator-action-1983         4                  action\n",
       "573704                 elevator-action-1983         2                 shooter\n",
       "573705                 elevator-action-1983         7                  puzzle\n",
       "573706                 elevator-action-1983        83              platformer\n",
       "573707                          bucky-ohare         4                  action\n",
       "573708                          bucky-ohare        83              platformer\n",
       "573709                 blades-of-steel-1988        15                  sports\n",
       "573710                    warioware-twisted         4                  action\n",
       "573711                    warioware-twisted         7                  puzzle\n",
       "573714       international-superstar-soccer        15                  sports\n",
       "573890                       arena-of-valor         4                  action\n",
       "573891                       arena-of-valor         5  role-playing-games-rpg\n",
       "\n",
       "[9584 rows x 3 columns]"
      ],
      "text/html": "<div>\n<style scoped>\n    .dataframe tbody tr th:only-of-type {\n        vertical-align: middle;\n    }\n\n    .dataframe tbody tr th {\n        vertical-align: top;\n    }\n\n    .dataframe thead th {\n        text-align: right;\n    }\n</style>\n<table border=\"1\" class=\"dataframe\">\n  <thead>\n    <tr style=\"text-align: right;\">\n      <th></th>\n      <th>game_name</th>\n      <th>genre_id</th>\n      <th>genre_name</th>\n    </tr>\n  </thead>\n  <tbody>\n    <tr>\n      <th>0</th>\n      <td>grand-theft-auto-v</td>\n      <td>4</td>\n      <td>action</td>\n    </tr>\n    <tr>\n      <th>1</th>\n      <td>portal-2</td>\n      <td>2</td>\n      <td>shooter</td>\n    </tr>\n    <tr>\n      <th>2</th>\n      <td>portal-2</td>\n      <td>7</td>\n      <td>puzzle</td>\n    </tr>\n    <tr>\n      <th>3</th>\n      <td>the-witcher-3-wild-hunt</td>\n      <td>4</td>\n      <td>action</td>\n    </tr>\n    <tr>\n      <th>4</th>\n      <td>the-witcher-3-wild-hunt</td>\n      <td>3</td>\n      <td>adventure</td>\n    </tr>\n    <tr>\n      <th>5</th>\n      <td>the-witcher-3-wild-hunt</td>\n      <td>5</td>\n      <td>role-playing-games-rpg</td>\n    </tr>\n    <tr>\n      <th>6</th>\n      <td>tomb-raider</td>\n      <td>4</td>\n      <td>action</td>\n    </tr>\n    <tr>\n      <th>7</th>\n      <td>tomb-raider</td>\n      <td>3</td>\n      <td>adventure</td>\n    </tr>\n    <tr>\n      <th>8</th>\n      <td>the-elder-scrolls-v-skyrim</td>\n      <td>4</td>\n      <td>action</td>\n    </tr>\n    <tr>\n      <th>9</th>\n      <td>the-elder-scrolls-v-skyrim</td>\n      <td>5</td>\n      <td>role-playing-games-rpg</td>\n    </tr>\n    <tr>\n      <th>10</th>\n      <td>left-4-dead-2</td>\n      <td>4</td>\n      <td>action</td>\n    </tr>\n    <tr>\n      <th>11</th>\n      <td>left-4-dead-2</td>\n      <td>2</td>\n      <td>shooter</td>\n    </tr>\n    <tr>\n      <th>12</th>\n      <td>borderlands-2</td>\n      <td>4</td>\n      <td>action</td>\n    </tr>\n    <tr>\n      <th>13</th>\n      <td>borderlands-2</td>\n      <td>2</td>\n      <td>shooter</td>\n    </tr>\n    <tr>\n      <th>14</th>\n      <td>borderlands-2</td>\n      <td>5</td>\n      <td>role-playing-games-rpg</td>\n    </tr>\n    <tr>\n      <th>15</th>\n      <td>bioshock-infinite</td>\n      <td>4</td>\n      <td>action</td>\n    </tr>\n    <tr>\n      <th>16</th>\n      <td>bioshock-infinite</td>\n      <td>2</td>\n      <td>shooter</td>\n    </tr>\n    <tr>\n      <th>17</th>\n      <td>portal</td>\n      <td>4</td>\n      <td>action</td>\n    </tr>\n    <tr>\n      <th>18</th>\n      <td>portal</td>\n      <td>3</td>\n      <td>adventure</td>\n    </tr>\n    <tr>\n      <th>19</th>\n      <td>portal</td>\n      <td>7</td>\n      <td>puzzle</td>\n    </tr>\n    <tr>\n      <th>20</th>\n      <td>life-is-strange-episode-1-2</td>\n      <td>3</td>\n      <td>adventure</td>\n    </tr>\n    <tr>\n      <th>21</th>\n      <td>counter-strike-global-offensive</td>\n      <td>4</td>\n      <td>action</td>\n    </tr>\n    <tr>\n      <th>22</th>\n      <td>counter-strike-global-offensive</td>\n      <td>2</td>\n      <td>shooter</td>\n    </tr>\n    <tr>\n      <th>23</th>\n      <td>bioshock</td>\n      <td>4</td>\n      <td>action</td>\n    </tr>\n    <tr>\n      <th>24</th>\n      <td>bioshock</td>\n      <td>2</td>\n      <td>shooter</td>\n    </tr>\n    <tr>\n      <th>25</th>\n      <td>limbo</td>\n      <td>4</td>\n      <td>action</td>\n    </tr>\n    <tr>\n      <th>26</th>\n      <td>limbo</td>\n      <td>3</td>\n      <td>adventure</td>\n    </tr>\n    <tr>\n      <th>27</th>\n      <td>limbo</td>\n      <td>51</td>\n      <td>indie</td>\n    </tr>\n    <tr>\n      <th>28</th>\n      <td>limbo</td>\n      <td>7</td>\n      <td>puzzle</td>\n    </tr>\n    <tr>\n      <th>29</th>\n      <td>limbo</td>\n      <td>83</td>\n      <td>platformer</td>\n    </tr>\n    <tr>\n      <th>...</th>\n      <td>...</td>\n      <td>...</td>\n      <td>...</td>\n    </tr>\n    <tr>\n      <th>572616</th>\n      <td>sim-theme-park</td>\n      <td>14</td>\n      <td>simulation</td>\n    </tr>\n    <tr>\n      <th>572624</th>\n      <td>toy-story-3-the-video-game</td>\n      <td>4</td>\n      <td>action</td>\n    </tr>\n    <tr>\n      <th>572625</th>\n      <td>toy-story-3-the-video-game</td>\n      <td>11</td>\n      <td>arcade</td>\n    </tr>\n    <tr>\n      <th>572832</th>\n      <td>star-wars-galaxy-of-heroes</td>\n      <td>5</td>\n      <td>role-playing-games-rpg</td>\n    </tr>\n    <tr>\n      <th>572833</th>\n      <td>star-wars-galaxy-of-heroes</td>\n      <td>10</td>\n      <td>strategy</td>\n    </tr>\n    <tr>\n      <th>572836</th>\n      <td>oceanhorn</td>\n      <td>3</td>\n      <td>adventure</td>\n    </tr>\n    <tr>\n      <th>572837</th>\n      <td>oceanhorn</td>\n      <td>5</td>\n      <td>role-playing-games-rpg</td>\n    </tr>\n    <tr>\n      <th>572863</th>\n      <td>marvels-spider-man-turf-wars</td>\n      <td>4</td>\n      <td>action</td>\n    </tr>\n    <tr>\n      <th>572864</th>\n      <td>marvels-spider-man-turf-wars</td>\n      <td>3</td>\n      <td>adventure</td>\n    </tr>\n    <tr>\n      <th>572872</th>\n      <td>witch-trainer</td>\n      <td>3</td>\n      <td>adventure</td>\n    </tr>\n    <tr>\n      <th>572873</th>\n      <td>witch-trainer</td>\n      <td>51</td>\n      <td>indie</td>\n    </tr>\n    <tr>\n      <th>573048</th>\n      <td>piscross-s3</td>\n      <td>7</td>\n      <td>puzzle</td>\n    </tr>\n    <tr>\n      <th>573268</th>\n      <td>cube-escape-birthday</td>\n      <td>3</td>\n      <td>adventure</td>\n    </tr>\n    <tr>\n      <th>573269</th>\n      <td>cube-escape-birthday</td>\n      <td>7</td>\n      <td>puzzle</td>\n    </tr>\n    <tr>\n      <th>573512</th>\n      <td>picross-s2</td>\n      <td>7</td>\n      <td>puzzle</td>\n    </tr>\n    <tr>\n      <th>573696</th>\n      <td>tiny-toon-adventures-acme-all-stars</td>\n      <td>15</td>\n      <td>sports</td>\n    </tr>\n    <tr>\n      <th>573700</th>\n      <td>perfect-dark-2000</td>\n      <td>4</td>\n      <td>action</td>\n    </tr>\n    <tr>\n      <th>573701</th>\n      <td>mischief-makers</td>\n      <td>83</td>\n      <td>platformer</td>\n    </tr>\n    <tr>\n      <th>573703</th>\n      <td>elevator-action-1983</td>\n      <td>4</td>\n      <td>action</td>\n    </tr>\n    <tr>\n      <th>573704</th>\n      <td>elevator-action-1983</td>\n      <td>2</td>\n      <td>shooter</td>\n    </tr>\n    <tr>\n      <th>573705</th>\n      <td>elevator-action-1983</td>\n      <td>7</td>\n      <td>puzzle</td>\n    </tr>\n    <tr>\n      <th>573706</th>\n      <td>elevator-action-1983</td>\n      <td>83</td>\n      <td>platformer</td>\n    </tr>\n    <tr>\n      <th>573707</th>\n      <td>bucky-ohare</td>\n      <td>4</td>\n      <td>action</td>\n    </tr>\n    <tr>\n      <th>573708</th>\n      <td>bucky-ohare</td>\n      <td>83</td>\n      <td>platformer</td>\n    </tr>\n    <tr>\n      <th>573709</th>\n      <td>blades-of-steel-1988</td>\n      <td>15</td>\n      <td>sports</td>\n    </tr>\n    <tr>\n      <th>573710</th>\n      <td>warioware-twisted</td>\n      <td>4</td>\n      <td>action</td>\n    </tr>\n    <tr>\n      <th>573711</th>\n      <td>warioware-twisted</td>\n      <td>7</td>\n      <td>puzzle</td>\n    </tr>\n    <tr>\n      <th>573714</th>\n      <td>international-superstar-soccer</td>\n      <td>15</td>\n      <td>sports</td>\n    </tr>\n    <tr>\n      <th>573890</th>\n      <td>arena-of-valor</td>\n      <td>4</td>\n      <td>action</td>\n    </tr>\n    <tr>\n      <th>573891</th>\n      <td>arena-of-valor</td>\n      <td>5</td>\n      <td>role-playing-games-rpg</td>\n    </tr>\n  </tbody>\n</table>\n<p>9584 rows × 3 columns</p>\n</div>"
     },
     "metadata": {},
     "execution_count": 6
    }
   ],
   "source": [
    "df"
   ]
  },
  {
   "cell_type": "code",
   "execution_count": 8,
   "metadata": {},
   "outputs": [],
   "source": [
    "genre_pivot = pd.pivot_table(df, index='game_name', values='genre_name', aggfunc=lambda x: list(x))"
   ]
  },
  {
   "cell_type": "code",
   "execution_count": 9,
   "metadata": {},
   "outputs": [],
   "source": [
    "game_df = pd.read_parquet('game_data.parquet')"
   ]
  },
  {
   "cell_type": "code",
   "execution_count": 12,
   "metadata": {},
   "outputs": [
    {
     "output_type": "execute_result",
     "data": {
      "text/plain": [
       "            id                                               name  rating  \\\n",
       "0         3498                                 grand-theft-auto-v    4.48   \n",
       "1         4200                                           portal-2    4.61   \n",
       "2         3328                            the-witcher-3-wild-hunt    4.67   \n",
       "3         5286                                        tomb-raider    4.06   \n",
       "4         5679                         the-elder-scrolls-v-skyrim    4.42   \n",
       "5        12020                                      left-4-dead-2    4.10   \n",
       "6          802                                      borderlands-2    4.05   \n",
       "7         4062                                  bioshock-infinite    4.39   \n",
       "8        13536                                             portal    4.52   \n",
       "9         3439                        life-is-strange-episode-1-2    4.11   \n",
       "10        4291                    counter-strike-global-offensive    3.57   \n",
       "11        4286                                           bioshock    4.39   \n",
       "12        1030                                              limbo    4.16   \n",
       "13       13537                                        half-life-2    4.50   \n",
       "14          28                              red-dead-redemption-2    4.57   \n",
       "15       11859                                    team-fortress-2    3.68   \n",
       "16        2454                                               doom    4.39   \n",
       "17        3070                                          fallout-4    3.76   \n",
       "19        4459                                grand-theft-auto-iv    4.24   \n",
       "20        8488                    tom-clancys-rainbow-six-siege-2    4.00   \n",
       "21       51329                          shadow-of-the-tomb-raider    3.84   \n",
       "22        4954                                    castle-crashers    3.91   \n",
       "23       58654                                           hitman-2    4.04   \n",
       "24        9475                                        dont-starve    3.89   \n",
       "25       28154                                            cuphead    4.37   \n",
       "26       28202                     wolfenstein-2-the-new-colossus    4.09   \n",
       "27         624                              ftl-faster-than-light    4.29   \n",
       "28        4550                                       dead-space-2    4.33   \n",
       "30       17126                                      torchlight-ii    3.87   \n",
       "31        5562                                          fallout-3    4.09   \n",
       "...        ...                                                ...     ...   \n",
       "482179   37357                                marvel-ult-alliance    3.90   \n",
       "482182     121                                  street-fighter-iv    3.73   \n",
       "482184    1063                                   final-fantasy-vi    4.37   \n",
       "482188   17462  earth-defense-force-41-the-shadow-of-new-despa...    3.60   \n",
       "482189   14188                                            gorogoa    4.34   \n",
       "482191  311680                                            f1-2019    3.85   \n",
       "482192   46410                                         wandersong    3.64   \n",
       "482193   15198                 kings-bounty-warriors-of-the-north    3.62   \n",
       "482196   29131                                 forza-motorsport-3    3.81   \n",
       "482862    5476                                       wipeout-pure    4.50   \n",
       "482863    5136              command-conquer-red-alert-retaliation    4.00   \n",
       "482864    5085                                     sim-theme-park    3.82   \n",
       "482867    4501                         toy-story-3-the-video-game    3.67   \n",
       "483078    1173                         star-wars-galaxy-of-heroes    3.64   \n",
       "483081     171                                          oceanhorn    3.75   \n",
       "483091  395177                       marvels-spider-man-turf-wars    3.67   \n",
       "483096  364814                                      witch-trainer    4.17   \n",
       "483307  309733                                        piscross-s3    4.00   \n",
       "483522   80251                               cube-escape-birthday    4.35   \n",
       "483749   59167                                         picross-s2    4.40   \n",
       "483750   59128                                        eyetoy-play    3.70   \n",
       "483958   57223                tiny-toon-adventures-acme-all-stars    3.93   \n",
       "483963   54478                                  perfect-dark-2000    3.92   \n",
       "483964   54444                                    mischief-makers    4.18   \n",
       "483967   53809                               elevator-action-1983    3.64   \n",
       "483968   53731                                        bucky-ohare    4.08   \n",
       "483969   53722                               blades-of-steel-1988    4.00   \n",
       "483970   53634                                  warioware-twisted    4.33   \n",
       "483973   53034                     international-superstar-soccer    4.00   \n",
       "484178   51200                                     arena-of-valor    4.00   \n",
       "\n",
       "        ratings_count    released  \n",
       "0                4289  2013-09-17  \n",
       "1                3611  2011-04-18  \n",
       "2                3939  2015-05-18  \n",
       "3                2526  2013-03-05  \n",
       "4                3032  2011-11-11  \n",
       "5                2107  2009-11-17  \n",
       "6                2235  2012-09-18  \n",
       "7                2769  2013-03-26  \n",
       "8                3048  2007-10-09  \n",
       "9                2480  2015-01-29  \n",
       "10               2089  2012-08-21  \n",
       "11               2295  2007-08-21  \n",
       "12               2239  2010-07-21  \n",
       "13               2516  2004-11-16  \n",
       "14               2949  2018-10-26  \n",
       "15               1921  2007-10-10  \n",
       "16               2423  2016-05-13  \n",
       "17               2207  2015-11-09  \n",
       "19               1858  2008-04-29  \n",
       "20                939  2015-04-07  \n",
       "21                897  2018-09-14  \n",
       "22                811  2008-08-27  \n",
       "23                709  2018-11-13  \n",
       "24                747  2013-04-22  \n",
       "25               1204  2017-09-29  \n",
       "26               1161  2017-10-25  \n",
       "27                671  2012-09-14  \n",
       "28                922  2011-01-25  \n",
       "30                742  2012-09-20  \n",
       "31               1279  2008-10-28  \n",
       "...               ...         ...  \n",
       "482179            180  2006-10-24  \n",
       "482182            147  2009-07-07  \n",
       "482184            274  1994-04-02  \n",
       "482188             75  2015-04-02  \n",
       "482189            238  2017-12-14  \n",
       "482191             65  2019-06-28  \n",
       "482192             56  2018-09-26  \n",
       "482193             61  2012-10-25  \n",
       "482196            119  2009-10-22  \n",
       "482862             12  2007-11-20  \n",
       "482863             14  1998-08-28  \n",
       "482864             11  1999-11-01  \n",
       "482867             12  2010-06-15  \n",
       "483078             10  2015-11-24  \n",
       "483081             11  2013-11-14  \n",
       "483091             12  2018-11-20  \n",
       "483096             11  2015-02-15  \n",
       "483307             10  2019-04-25  \n",
       "483522             17  2016-02-15  \n",
       "483749             10  2018-08-02  \n",
       "483750             10  2003-02-04  \n",
       "483958             15  1994-01-01  \n",
       "483963             12  2000-05-22  \n",
       "483964             11  1997-06-27  \n",
       "483967             11  1983-01-01  \n",
       "483968             11  1992-01-31  \n",
       "483969             10  1988-07-22  \n",
       "483970             12  2004-10-14  \n",
       "483973             12  1994-11-11  \n",
       "484178             12  2015-11-26  \n",
       "\n",
       "[4759 rows x 5 columns]"
      ],
      "text/html": "<div>\n<style scoped>\n    .dataframe tbody tr th:only-of-type {\n        vertical-align: middle;\n    }\n\n    .dataframe tbody tr th {\n        vertical-align: top;\n    }\n\n    .dataframe thead th {\n        text-align: right;\n    }\n</style>\n<table border=\"1\" class=\"dataframe\">\n  <thead>\n    <tr style=\"text-align: right;\">\n      <th></th>\n      <th>id</th>\n      <th>name</th>\n      <th>rating</th>\n      <th>ratings_count</th>\n      <th>released</th>\n    </tr>\n  </thead>\n  <tbody>\n    <tr>\n      <th>0</th>\n      <td>3498</td>\n      <td>grand-theft-auto-v</td>\n      <td>4.48</td>\n      <td>4289</td>\n      <td>2013-09-17</td>\n    </tr>\n    <tr>\n      <th>1</th>\n      <td>4200</td>\n      <td>portal-2</td>\n      <td>4.61</td>\n      <td>3611</td>\n      <td>2011-04-18</td>\n    </tr>\n    <tr>\n      <th>2</th>\n      <td>3328</td>\n      <td>the-witcher-3-wild-hunt</td>\n      <td>4.67</td>\n      <td>3939</td>\n      <td>2015-05-18</td>\n    </tr>\n    <tr>\n      <th>3</th>\n      <td>5286</td>\n      <td>tomb-raider</td>\n      <td>4.06</td>\n      <td>2526</td>\n      <td>2013-03-05</td>\n    </tr>\n    <tr>\n      <th>4</th>\n      <td>5679</td>\n      <td>the-elder-scrolls-v-skyrim</td>\n      <td>4.42</td>\n      <td>3032</td>\n      <td>2011-11-11</td>\n    </tr>\n    <tr>\n      <th>5</th>\n      <td>12020</td>\n      <td>left-4-dead-2</td>\n      <td>4.10</td>\n      <td>2107</td>\n      <td>2009-11-17</td>\n    </tr>\n    <tr>\n      <th>6</th>\n      <td>802</td>\n      <td>borderlands-2</td>\n      <td>4.05</td>\n      <td>2235</td>\n      <td>2012-09-18</td>\n    </tr>\n    <tr>\n      <th>7</th>\n      <td>4062</td>\n      <td>bioshock-infinite</td>\n      <td>4.39</td>\n      <td>2769</td>\n      <td>2013-03-26</td>\n    </tr>\n    <tr>\n      <th>8</th>\n      <td>13536</td>\n      <td>portal</td>\n      <td>4.52</td>\n      <td>3048</td>\n      <td>2007-10-09</td>\n    </tr>\n    <tr>\n      <th>9</th>\n      <td>3439</td>\n      <td>life-is-strange-episode-1-2</td>\n      <td>4.11</td>\n      <td>2480</td>\n      <td>2015-01-29</td>\n    </tr>\n    <tr>\n      <th>10</th>\n      <td>4291</td>\n      <td>counter-strike-global-offensive</td>\n      <td>3.57</td>\n      <td>2089</td>\n      <td>2012-08-21</td>\n    </tr>\n    <tr>\n      <th>11</th>\n      <td>4286</td>\n      <td>bioshock</td>\n      <td>4.39</td>\n      <td>2295</td>\n      <td>2007-08-21</td>\n    </tr>\n    <tr>\n      <th>12</th>\n      <td>1030</td>\n      <td>limbo</td>\n      <td>4.16</td>\n      <td>2239</td>\n      <td>2010-07-21</td>\n    </tr>\n    <tr>\n      <th>13</th>\n      <td>13537</td>\n      <td>half-life-2</td>\n      <td>4.50</td>\n      <td>2516</td>\n      <td>2004-11-16</td>\n    </tr>\n    <tr>\n      <th>14</th>\n      <td>28</td>\n      <td>red-dead-redemption-2</td>\n      <td>4.57</td>\n      <td>2949</td>\n      <td>2018-10-26</td>\n    </tr>\n    <tr>\n      <th>15</th>\n      <td>11859</td>\n      <td>team-fortress-2</td>\n      <td>3.68</td>\n      <td>1921</td>\n      <td>2007-10-10</td>\n    </tr>\n    <tr>\n      <th>16</th>\n      <td>2454</td>\n      <td>doom</td>\n      <td>4.39</td>\n      <td>2423</td>\n      <td>2016-05-13</td>\n    </tr>\n    <tr>\n      <th>17</th>\n      <td>3070</td>\n      <td>fallout-4</td>\n      <td>3.76</td>\n      <td>2207</td>\n      <td>2015-11-09</td>\n    </tr>\n    <tr>\n      <th>19</th>\n      <td>4459</td>\n      <td>grand-theft-auto-iv</td>\n      <td>4.24</td>\n      <td>1858</td>\n      <td>2008-04-29</td>\n    </tr>\n    <tr>\n      <th>20</th>\n      <td>8488</td>\n      <td>tom-clancys-rainbow-six-siege-2</td>\n      <td>4.00</td>\n      <td>939</td>\n      <td>2015-04-07</td>\n    </tr>\n    <tr>\n      <th>21</th>\n      <td>51329</td>\n      <td>shadow-of-the-tomb-raider</td>\n      <td>3.84</td>\n      <td>897</td>\n      <td>2018-09-14</td>\n    </tr>\n    <tr>\n      <th>22</th>\n      <td>4954</td>\n      <td>castle-crashers</td>\n      <td>3.91</td>\n      <td>811</td>\n      <td>2008-08-27</td>\n    </tr>\n    <tr>\n      <th>23</th>\n      <td>58654</td>\n      <td>hitman-2</td>\n      <td>4.04</td>\n      <td>709</td>\n      <td>2018-11-13</td>\n    </tr>\n    <tr>\n      <th>24</th>\n      <td>9475</td>\n      <td>dont-starve</td>\n      <td>3.89</td>\n      <td>747</td>\n      <td>2013-04-22</td>\n    </tr>\n    <tr>\n      <th>25</th>\n      <td>28154</td>\n      <td>cuphead</td>\n      <td>4.37</td>\n      <td>1204</td>\n      <td>2017-09-29</td>\n    </tr>\n    <tr>\n      <th>26</th>\n      <td>28202</td>\n      <td>wolfenstein-2-the-new-colossus</td>\n      <td>4.09</td>\n      <td>1161</td>\n      <td>2017-10-25</td>\n    </tr>\n    <tr>\n      <th>27</th>\n      <td>624</td>\n      <td>ftl-faster-than-light</td>\n      <td>4.29</td>\n      <td>671</td>\n      <td>2012-09-14</td>\n    </tr>\n    <tr>\n      <th>28</th>\n      <td>4550</td>\n      <td>dead-space-2</td>\n      <td>4.33</td>\n      <td>922</td>\n      <td>2011-01-25</td>\n    </tr>\n    <tr>\n      <th>30</th>\n      <td>17126</td>\n      <td>torchlight-ii</td>\n      <td>3.87</td>\n      <td>742</td>\n      <td>2012-09-20</td>\n    </tr>\n    <tr>\n      <th>31</th>\n      <td>5562</td>\n      <td>fallout-3</td>\n      <td>4.09</td>\n      <td>1279</td>\n      <td>2008-10-28</td>\n    </tr>\n    <tr>\n      <th>...</th>\n      <td>...</td>\n      <td>...</td>\n      <td>...</td>\n      <td>...</td>\n      <td>...</td>\n    </tr>\n    <tr>\n      <th>482179</th>\n      <td>37357</td>\n      <td>marvel-ult-alliance</td>\n      <td>3.90</td>\n      <td>180</td>\n      <td>2006-10-24</td>\n    </tr>\n    <tr>\n      <th>482182</th>\n      <td>121</td>\n      <td>street-fighter-iv</td>\n      <td>3.73</td>\n      <td>147</td>\n      <td>2009-07-07</td>\n    </tr>\n    <tr>\n      <th>482184</th>\n      <td>1063</td>\n      <td>final-fantasy-vi</td>\n      <td>4.37</td>\n      <td>274</td>\n      <td>1994-04-02</td>\n    </tr>\n    <tr>\n      <th>482188</th>\n      <td>17462</td>\n      <td>earth-defense-force-41-the-shadow-of-new-despa...</td>\n      <td>3.60</td>\n      <td>75</td>\n      <td>2015-04-02</td>\n    </tr>\n    <tr>\n      <th>482189</th>\n      <td>14188</td>\n      <td>gorogoa</td>\n      <td>4.34</td>\n      <td>238</td>\n      <td>2017-12-14</td>\n    </tr>\n    <tr>\n      <th>482191</th>\n      <td>311680</td>\n      <td>f1-2019</td>\n      <td>3.85</td>\n      <td>65</td>\n      <td>2019-06-28</td>\n    </tr>\n    <tr>\n      <th>482192</th>\n      <td>46410</td>\n      <td>wandersong</td>\n      <td>3.64</td>\n      <td>56</td>\n      <td>2018-09-26</td>\n    </tr>\n    <tr>\n      <th>482193</th>\n      <td>15198</td>\n      <td>kings-bounty-warriors-of-the-north</td>\n      <td>3.62</td>\n      <td>61</td>\n      <td>2012-10-25</td>\n    </tr>\n    <tr>\n      <th>482196</th>\n      <td>29131</td>\n      <td>forza-motorsport-3</td>\n      <td>3.81</td>\n      <td>119</td>\n      <td>2009-10-22</td>\n    </tr>\n    <tr>\n      <th>482862</th>\n      <td>5476</td>\n      <td>wipeout-pure</td>\n      <td>4.50</td>\n      <td>12</td>\n      <td>2007-11-20</td>\n    </tr>\n    <tr>\n      <th>482863</th>\n      <td>5136</td>\n      <td>command-conquer-red-alert-retaliation</td>\n      <td>4.00</td>\n      <td>14</td>\n      <td>1998-08-28</td>\n    </tr>\n    <tr>\n      <th>482864</th>\n      <td>5085</td>\n      <td>sim-theme-park</td>\n      <td>3.82</td>\n      <td>11</td>\n      <td>1999-11-01</td>\n    </tr>\n    <tr>\n      <th>482867</th>\n      <td>4501</td>\n      <td>toy-story-3-the-video-game</td>\n      <td>3.67</td>\n      <td>12</td>\n      <td>2010-06-15</td>\n    </tr>\n    <tr>\n      <th>483078</th>\n      <td>1173</td>\n      <td>star-wars-galaxy-of-heroes</td>\n      <td>3.64</td>\n      <td>10</td>\n      <td>2015-11-24</td>\n    </tr>\n    <tr>\n      <th>483081</th>\n      <td>171</td>\n      <td>oceanhorn</td>\n      <td>3.75</td>\n      <td>11</td>\n      <td>2013-11-14</td>\n    </tr>\n    <tr>\n      <th>483091</th>\n      <td>395177</td>\n      <td>marvels-spider-man-turf-wars</td>\n      <td>3.67</td>\n      <td>12</td>\n      <td>2018-11-20</td>\n    </tr>\n    <tr>\n      <th>483096</th>\n      <td>364814</td>\n      <td>witch-trainer</td>\n      <td>4.17</td>\n      <td>11</td>\n      <td>2015-02-15</td>\n    </tr>\n    <tr>\n      <th>483307</th>\n      <td>309733</td>\n      <td>piscross-s3</td>\n      <td>4.00</td>\n      <td>10</td>\n      <td>2019-04-25</td>\n    </tr>\n    <tr>\n      <th>483522</th>\n      <td>80251</td>\n      <td>cube-escape-birthday</td>\n      <td>4.35</td>\n      <td>17</td>\n      <td>2016-02-15</td>\n    </tr>\n    <tr>\n      <th>483749</th>\n      <td>59167</td>\n      <td>picross-s2</td>\n      <td>4.40</td>\n      <td>10</td>\n      <td>2018-08-02</td>\n    </tr>\n    <tr>\n      <th>483750</th>\n      <td>59128</td>\n      <td>eyetoy-play</td>\n      <td>3.70</td>\n      <td>10</td>\n      <td>2003-02-04</td>\n    </tr>\n    <tr>\n      <th>483958</th>\n      <td>57223</td>\n      <td>tiny-toon-adventures-acme-all-stars</td>\n      <td>3.93</td>\n      <td>15</td>\n      <td>1994-01-01</td>\n    </tr>\n    <tr>\n      <th>483963</th>\n      <td>54478</td>\n      <td>perfect-dark-2000</td>\n      <td>3.92</td>\n      <td>12</td>\n      <td>2000-05-22</td>\n    </tr>\n    <tr>\n      <th>483964</th>\n      <td>54444</td>\n      <td>mischief-makers</td>\n      <td>4.18</td>\n      <td>11</td>\n      <td>1997-06-27</td>\n    </tr>\n    <tr>\n      <th>483967</th>\n      <td>53809</td>\n      <td>elevator-action-1983</td>\n      <td>3.64</td>\n      <td>11</td>\n      <td>1983-01-01</td>\n    </tr>\n    <tr>\n      <th>483968</th>\n      <td>53731</td>\n      <td>bucky-ohare</td>\n      <td>4.08</td>\n      <td>11</td>\n      <td>1992-01-31</td>\n    </tr>\n    <tr>\n      <th>483969</th>\n      <td>53722</td>\n      <td>blades-of-steel-1988</td>\n      <td>4.00</td>\n      <td>10</td>\n      <td>1988-07-22</td>\n    </tr>\n    <tr>\n      <th>483970</th>\n      <td>53634</td>\n      <td>warioware-twisted</td>\n      <td>4.33</td>\n      <td>12</td>\n      <td>2004-10-14</td>\n    </tr>\n    <tr>\n      <th>483973</th>\n      <td>53034</td>\n      <td>international-superstar-soccer</td>\n      <td>4.00</td>\n      <td>12</td>\n      <td>1994-11-11</td>\n    </tr>\n    <tr>\n      <th>484178</th>\n      <td>51200</td>\n      <td>arena-of-valor</td>\n      <td>4.00</td>\n      <td>12</td>\n      <td>2015-11-26</td>\n    </tr>\n  </tbody>\n</table>\n<p>4759 rows × 5 columns</p>\n</div>"
     },
     "metadata": {},
     "execution_count": 12
    }
   ],
   "source": [
    "game_df"
   ]
  },
  {
   "cell_type": "code",
   "execution_count": 14,
   "metadata": {},
   "outputs": [],
   "source": [
    "reference_table = pd.merge(genre_pivot, game_df, left_on='game_name', right_on='name')"
   ]
  },
  {
   "cell_type": "code",
   "execution_count": 15,
   "metadata": {},
   "outputs": [],
   "source": [
    "reference_table.to_parquet('game_reference_table.parquet')"
   ]
  },
  {
   "cell_type": "code",
   "execution_count": null,
   "metadata": {},
   "outputs": [],
   "source": []
  }
 ]
}