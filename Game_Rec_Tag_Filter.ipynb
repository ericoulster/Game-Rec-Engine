{
 "cells": [
  {
   "cell_type": "code",
   "execution_count": 28,
   "metadata": {
    "id": "7RnXp5pGjHW3"
   },
   "outputs": [],
   "source": [
    "import numpy as np\n",
    "import pandas as pd"
   ]
  },
  {
   "cell_type": "code",
   "execution_count": 29,
   "metadata": {
    "id": "DNrR48rIjKaD"
   },
   "outputs": [],
   "source": [
    "tag_df = pd.read_parquet('tag_list.parquet')"
   ]
  },
  {
   "cell_type": "code",
   "execution_count": 30,
   "metadata": {
    "colab": {
     "base_uri": "https://localhost:8080/",
     "height": 424
    },
    "id": "Z_zZmNmgP0Yi",
    "outputId": "6253ef94-a492-4c2f-e104-1653c4c77ac3"
   },
   "outputs": [
    {
     "data": {
      "text/html": [
       "<div>\n",
       "<style scoped>\n",
       "    .dataframe tbody tr th:only-of-type {\n",
       "        vertical-align: middle;\n",
       "    }\n",
       "\n",
       "    .dataframe tbody tr th {\n",
       "        vertical-align: top;\n",
       "    }\n",
       "\n",
       "    .dataframe thead th {\n",
       "        text-align: right;\n",
       "    }\n",
       "</style>\n",
       "<table border=\"1\" class=\"dataframe\">\n",
       "  <thead>\n",
       "    <tr style=\"text-align: right;\">\n",
       "      <th></th>\n",
       "      <th>game_id</th>\n",
       "      <th>genre_id</th>\n",
       "      <th>genre_name</th>\n",
       "    </tr>\n",
       "  </thead>\n",
       "  <tbody>\n",
       "    <tr>\n",
       "      <th>0</th>\n",
       "      <td>3498</td>\n",
       "      <td>31</td>\n",
       "      <td>singleplayer</td>\n",
       "    </tr>\n",
       "    <tr>\n",
       "      <th>1</th>\n",
       "      <td>4200</td>\n",
       "      <td>31</td>\n",
       "      <td>singleplayer</td>\n",
       "    </tr>\n",
       "    <tr>\n",
       "      <th>2</th>\n",
       "      <td>4200</td>\n",
       "      <td>40847</td>\n",
       "      <td>steam-achievements</td>\n",
       "    </tr>\n",
       "    <tr>\n",
       "      <th>3</th>\n",
       "      <td>3328</td>\n",
       "      <td>31</td>\n",
       "      <td>singleplayer</td>\n",
       "    </tr>\n",
       "    <tr>\n",
       "      <th>4</th>\n",
       "      <td>3328</td>\n",
       "      <td>13</td>\n",
       "      <td>atmospheric</td>\n",
       "    </tr>\n",
       "    <tr>\n",
       "      <th>...</th>\n",
       "      <td>...</td>\n",
       "      <td>...</td>\n",
       "      <td>...</td>\n",
       "    </tr>\n",
       "    <tr>\n",
       "      <th>2034996</th>\n",
       "      <td>396016</td>\n",
       "      <td>836</td>\n",
       "      <td>drone</td>\n",
       "    </tr>\n",
       "    <tr>\n",
       "      <th>2034997</th>\n",
       "      <td>396015</td>\n",
       "      <td>114</td>\n",
       "      <td>physics</td>\n",
       "    </tr>\n",
       "    <tr>\n",
       "      <th>2034998</th>\n",
       "      <td>396015</td>\n",
       "      <td>1407</td>\n",
       "      <td>race</td>\n",
       "    </tr>\n",
       "    <tr>\n",
       "      <th>2034999</th>\n",
       "      <td>396015</td>\n",
       "      <td>2590</td>\n",
       "      <td>fun</td>\n",
       "    </tr>\n",
       "    <tr>\n",
       "      <th>2035000</th>\n",
       "      <td>396015</td>\n",
       "      <td>3758</td>\n",
       "      <td>speed</td>\n",
       "    </tr>\n",
       "  </tbody>\n",
       "</table>\n",
       "<p>2035001 rows × 3 columns</p>\n",
       "</div>"
      ],
      "text/plain": [
       "         game_id  genre_id          genre_name\n",
       "0           3498        31        singleplayer\n",
       "1           4200        31        singleplayer\n",
       "2           4200     40847  steam-achievements\n",
       "3           3328        31        singleplayer\n",
       "4           3328        13         atmospheric\n",
       "...          ...       ...                 ...\n",
       "2034996   396016       836               drone\n",
       "2034997   396015       114             physics\n",
       "2034998   396015      1407                race\n",
       "2034999   396015      2590                 fun\n",
       "2035000   396015      3758               speed\n",
       "\n",
       "[2035001 rows x 3 columns]"
      ]
     },
     "execution_count": 30,
     "metadata": {
      "tags": []
     },
     "output_type": "execute_result"
    }
   ],
   "source": [
    "tag_df"
   ]
  },
  {
   "cell_type": "code",
   "execution_count": 31,
   "metadata": {
    "id": "8yugn0PzOqT8"
   },
   "outputs": [],
   "source": [
    "tag_counts = tag_df.groupby('genre_name')['genre_name'].count().sort_values()"
   ]
  },
  {
   "cell_type": "code",
   "execution_count": 32,
   "metadata": {
    "id": "iQz8HlTuXaGX"
   },
   "outputs": [],
   "source": [
    "tag_counts.to_csv('tag_counts.csv')"
   ]
  },
  {
   "cell_type": "code",
   "execution_count": 33,
   "metadata": {
    "colab": {
     "base_uri": "https://localhost:8080/"
    },
    "id": "-pwj7haaYnjt",
    "outputId": "c0edd037-0834-466d-dd59-39e4c1f2e0e9"
   },
   "outputs": [
    {
     "data": {
      "text/plain": [
       "genre_name\n",
       "lecrerc             1\n",
       "nkvd                1\n",
       "nls9                1\n",
       "nm-game-jam-2018    1\n",
       "nm-gamejam          1\n",
       "Name: genre_name, dtype: int64"
      ]
     },
     "execution_count": 33,
     "metadata": {
      "tags": []
     },
     "output_type": "execute_result"
    }
   ],
   "source": [
    "tag_counts.head()"
   ]
  },
  {
   "cell_type": "code",
   "execution_count": 34,
   "metadata": {
    "id": "5QbnN0XuXs92"
   },
   "outputs": [],
   "source": [
    "common_tags = tag_counts[tag_counts >= 25]"
   ]
  },
  {
   "cell_type": "code",
   "execution_count": 35,
   "metadata": {
    "id": "FIjkVY8PYxXF"
   },
   "outputs": [],
   "source": [
    "common_tag_list = list(common_tags.index)"
   ]
  },
  {
   "cell_type": "code",
   "execution_count": 37,
   "metadata": {
    "colab": {
     "base_uri": "https://localhost:8080/"
    },
    "id": "Vn8DmfmYaRA4",
    "outputId": "8c25c048-894e-4959-9113-697887606e26"
   },
   "outputs": [
    {
     "data": {
      "text/plain": [
       "2190"
      ]
     },
     "execution_count": 37,
     "metadata": {
      "tags": []
     },
     "output_type": "execute_result"
    }
   ],
   "source": [
    "len(common_tag_list)"
   ]
  },
  {
   "cell_type": "code",
   "execution_count": 38,
   "metadata": {
    "id": "c3pt8XDQZlip"
   },
   "outputs": [],
   "source": [
    "tag_df_trim = tag_df[tag_df['genre_name'].isin(common_tag_list)]"
   ]
  },
  {
   "cell_type": "code",
   "execution_count": 39,
   "metadata": {
    "colab": {
     "base_uri": "https://localhost:8080/",
     "height": 424
    },
    "id": "ogQdPQFIap-9",
    "outputId": "03b3f6e9-c2d7-43ab-b34f-298c899ee61e"
   },
   "outputs": [
    {
     "data": {
      "text/html": [
       "<div>\n",
       "<style scoped>\n",
       "    .dataframe tbody tr th:only-of-type {\n",
       "        vertical-align: middle;\n",
       "    }\n",
       "\n",
       "    .dataframe tbody tr th {\n",
       "        vertical-align: top;\n",
       "    }\n",
       "\n",
       "    .dataframe thead th {\n",
       "        text-align: right;\n",
       "    }\n",
       "</style>\n",
       "<table border=\"1\" class=\"dataframe\">\n",
       "  <thead>\n",
       "    <tr style=\"text-align: right;\">\n",
       "      <th></th>\n",
       "      <th>game_id</th>\n",
       "      <th>genre_id</th>\n",
       "      <th>genre_name</th>\n",
       "    </tr>\n",
       "  </thead>\n",
       "  <tbody>\n",
       "    <tr>\n",
       "      <th>0</th>\n",
       "      <td>3498</td>\n",
       "      <td>31</td>\n",
       "      <td>singleplayer</td>\n",
       "    </tr>\n",
       "    <tr>\n",
       "      <th>1</th>\n",
       "      <td>4200</td>\n",
       "      <td>31</td>\n",
       "      <td>singleplayer</td>\n",
       "    </tr>\n",
       "    <tr>\n",
       "      <th>2</th>\n",
       "      <td>4200</td>\n",
       "      <td>40847</td>\n",
       "      <td>steam-achievements</td>\n",
       "    </tr>\n",
       "    <tr>\n",
       "      <th>3</th>\n",
       "      <td>3328</td>\n",
       "      <td>31</td>\n",
       "      <td>singleplayer</td>\n",
       "    </tr>\n",
       "    <tr>\n",
       "      <th>4</th>\n",
       "      <td>3328</td>\n",
       "      <td>13</td>\n",
       "      <td>atmospheric</td>\n",
       "    </tr>\n",
       "    <tr>\n",
       "      <th>...</th>\n",
       "      <td>...</td>\n",
       "      <td>...</td>\n",
       "      <td>...</td>\n",
       "    </tr>\n",
       "    <tr>\n",
       "      <th>2034996</th>\n",
       "      <td>396016</td>\n",
       "      <td>836</td>\n",
       "      <td>drone</td>\n",
       "    </tr>\n",
       "    <tr>\n",
       "      <th>2034997</th>\n",
       "      <td>396015</td>\n",
       "      <td>114</td>\n",
       "      <td>physics</td>\n",
       "    </tr>\n",
       "    <tr>\n",
       "      <th>2034998</th>\n",
       "      <td>396015</td>\n",
       "      <td>1407</td>\n",
       "      <td>race</td>\n",
       "    </tr>\n",
       "    <tr>\n",
       "      <th>2034999</th>\n",
       "      <td>396015</td>\n",
       "      <td>2590</td>\n",
       "      <td>fun</td>\n",
       "    </tr>\n",
       "    <tr>\n",
       "      <th>2035000</th>\n",
       "      <td>396015</td>\n",
       "      <td>3758</td>\n",
       "      <td>speed</td>\n",
       "    </tr>\n",
       "  </tbody>\n",
       "</table>\n",
       "<p>1914584 rows × 3 columns</p>\n",
       "</div>"
      ],
      "text/plain": [
       "         game_id  genre_id          genre_name\n",
       "0           3498        31        singleplayer\n",
       "1           4200        31        singleplayer\n",
       "2           4200     40847  steam-achievements\n",
       "3           3328        31        singleplayer\n",
       "4           3328        13         atmospheric\n",
       "...          ...       ...                 ...\n",
       "2034996   396016       836               drone\n",
       "2034997   396015       114             physics\n",
       "2034998   396015      1407                race\n",
       "2034999   396015      2590                 fun\n",
       "2035000   396015      3758               speed\n",
       "\n",
       "[1914584 rows x 3 columns]"
      ]
     },
     "execution_count": 39,
     "metadata": {
      "tags": []
     },
     "output_type": "execute_result"
    }
   ],
   "source": [
    "tag_df_trim"
   ]
  },
  {
   "cell_type": "code",
   "execution_count": 40,
   "metadata": {
    "id": "08aOw5X7a3un"
   },
   "outputs": [],
   "source": [
    "tag_df_trim.to_parquet('tag_list_trim.parquet')"
   ]
  }
 ],
 "metadata": {
  "colab": {
   "collapsed_sections": [],
   "name": "Game Rec Crosstabs.ipynb",
   "provenance": []
  },
  "kernelspec": {
   "display_name": "Python 3",
   "language": "python",
   "name": "python3"
  },
  "language_info": {
   "codemirror_mode": {
    "name": "ipython",
    "version": 3
   },
   "file_extension": ".py",
   "mimetype": "text/x-python",
   "name": "python",
   "nbconvert_exporter": "python",
   "pygments_lexer": "ipython3",
   "version": "3.6.5"
  }
 },
 "nbformat": 4,
 "nbformat_minor": 1
}
